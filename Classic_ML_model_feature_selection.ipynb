{
 "cells": [
  {
   "cell_type": "code",
   "execution_count": 1,
   "metadata": {},
   "outputs": [],
   "source": [
    "import numpy as np\n",
    "import pandas as pd\n",
    "import glob\n",
    "from datetime import timedelta\n",
    "from sklearn import svm\n",
    "from sklearn.model_selection import train_test_split\n",
    "from sklearn.metrics import mean_squared_error\n",
    "import itertools\n",
    "import warnings\n",
    "warnings.simplefilter(action='ignore', category=FutureWarning)"
   ]
  },
  {
   "cell_type": "code",
   "execution_count": 2,
   "metadata": {},
   "outputs": [],
   "source": [
    "def is_nan(x):\n",
    "    '''\n",
    "    Checks if x is nan or not.\n",
    "    Taken from https://stackoverflow.com/questions/944700/how-can-i-check-for-nan-values.\n",
    "\n",
    "    :param x: any type of item to check for if it is nan type\n",
    "\n",
    "    Returns True if it is nan type, false if not.\n",
    "    '''\n",
    "\n",
    "    return (x is np.nan or x != x)"
   ]
  },
  {
   "cell_type": "code",
   "execution_count": 3,
   "metadata": {},
   "outputs": [],
   "source": [
    "filename_patient = './patientData\\patientAS14.07.csv'"
   ]
  },
  {
   "cell_type": "code",
   "execution_count": 4,
   "metadata": {},
   "outputs": [],
   "source": [
    "def create_df_per_patient(filename):\n",
    "    df_patient = pd.read_csv(filename)\n",
    "    # Edit dataframe\n",
    "    #df_patient['month'] = df_patient.apply(lambda row: row.time[5:7], axis=1)\n",
    "    #df_patient['day'] = df_patient.apply(lambda row: row.time[8:10], axis=1)\n",
    "    #df_patient['call'].fillna(0, inplace=True)\n",
    "\n",
    "    # Remove rows with no value for mood for whole day\n",
    "    df_patient = df_patient[is_nan(df_patient['mood']) != True]\n",
    "    df_patient = df_patient[is_nan(df_patient['screen']) != True]\n",
    "    df_patient.fillna(0, inplace=True)\n",
    "    df_patient['time'] = pd.to_datetime(df_patient['time'])\n",
    "    df_patient.set_index(['time'], inplace=True)\n",
    "    return df_patient\n",
    "\n",
    "def generate_instances(df, columns=['mood']):\n",
    "    number_of_days = 6\n",
    "    all_instances = []\n",
    "    all_labels = []\n",
    "    for date_0, row_0 in df_patient.iterrows():\n",
    "        valid_data_count = 0\n",
    "        instance = []\n",
    "        for date, row in df_patient.iterrows():\n",
    "            for delta_days in range(1, number_of_days):\n",
    "                #print(delta_days)\n",
    "                if date_0 - timedelta(days=delta_days) == date:\n",
    "                    selected_day_info = list(row[columns])\n",
    "                    instance += selected_day_info\n",
    "                    if not is_nan(row['mood']):\n",
    "                        valid_data_count += 1\n",
    "                    \n",
    "        if valid_data_count == number_of_days-1:\n",
    "            all_labels.append(row_0['mood'])\n",
    "            all_instances.append(instance)\n",
    "\n",
    "    assert len(all_labels)==len(all_instances), 'Amount of instances and amount of labels differ.'\n",
    "    assert len(all_instances) > 0, 'No instances were created.'\n",
    "\n",
    "    return all_instances, all_labels\n",
    "\n",
    "def train_and_eval(instances, labels, model='svr'):\n",
    "    X_train, X_test, y_train, y_test = train_test_split(instances, labels, test_size=0.33, random_state=42)\n",
    "    if model=='svr':\n",
    "        # Make instance of model svm.SVR\n",
    "        clf = svm.SVR().fit(X_train, y_train)\n",
    "    \n",
    "    y_pred = clf.predict(X_test)\n",
    "    error = mean_squared_error(y_test, y_pred)\n",
    "    return error\n",
    "\n",
    "def find_best_features(feature_selection_list, df, filepath, model_selection_list=['svr']):\n",
    "    # set scoring dict\n",
    "    score_dict = dict()\n",
    "    # Loop through feature combinations and models\n",
    "    for features in feature_selection_list:\n",
    "        for model in model_selection_list:\n",
    "            # Generate training instances\n",
    "            all_instances, all_labels = generate_instances(df, columns=features)\n",
    "            # Train and evaluate\n",
    "            score = train_and_eval(all_instances, all_labels, model=model)\n",
    "            # Write to dictionary\n",
    "            key = tuple([tuple(features), model])\n",
    "            score_dict[key] = score\n",
    "            # Sort dictionary\n",
    "            sorted_dict = sorted(score_dict.items(), key=lambda x:x[1])\n",
    "            # Write to file\n",
    "            with open(filepath, 'w') as outfile:\n",
    "                for item in sorted_dict:\n",
    "                    outfile.write(str(item)+'\\n')"
   ]
  },
  {
   "cell_type": "code",
   "execution_count": 5,
   "metadata": {},
   "outputs": [
    {
     "name": "stdout",
     "output_type": "stream",
     "text": [
      "136\n"
     ]
    }
   ],
   "source": [
    "# if __name__ == \"__main__\":\n",
    "df_patient = create_df_per_patient(filename_patient)\n",
    "possible_features = df_patient.columns\n",
    "feature_selection_list = []\n",
    "for i in range(1, 3): \n",
    "    feature_selection_list_i = [list(x) for x in itertools.combinations(possible_features, i)]\n",
    "    feature_selection_list += feature_selection_list_i\n",
    "print(len(feature_selection_list))\n",
    "find_best_features(feature_selection_list, df_patient, 'sorted_svr_scores_p7_v1.txt')"
   ]
  },
  {
   "cell_type": "code",
   "execution_count": 6,
   "metadata": {},
   "outputs": [],
   "source": [
    "import winsound\n",
    "frequency = 1700  # Set Frequency To 2500 Hertz\n",
    "duration = 500  # Set Duration To 1000 ms == 1 second\n",
    "winsound.Beep(frequency, duration)"
   ]
  },
  {
   "cell_type": "code",
   "execution_count": null,
   "metadata": {},
   "outputs": [],
   "source": []
  },
  {
   "cell_type": "code",
   "execution_count": null,
   "metadata": {},
   "outputs": [],
   "source": []
  }
 ],
 "metadata": {
  "kernelspec": {
   "display_name": "Python 3",
   "language": "python",
   "name": "python3"
  },
  "language_info": {
   "codemirror_mode": {
    "name": "ipython",
    "version": 3
   },
   "file_extension": ".py",
   "mimetype": "text/x-python",
   "name": "python",
   "nbconvert_exporter": "python",
   "pygments_lexer": "ipython3",
   "version": "3.7.3"
  }
 },
 "nbformat": 4,
 "nbformat_minor": 2
}
